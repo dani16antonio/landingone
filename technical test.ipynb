{
 "cells": [
  {
   "cell_type": "markdown",
   "metadata": {},
   "source": [
    "# Landing One"
   ]
  },
  {
   "cell_type": "markdown",
   "metadata": {},
   "source": [
    "## Fuzzy Matching\n",
    "* Task: You will receive two datasets with customer information and transactions.\n",
    "* Objective: Use fuzzy matching techniques to merge these datasets, correcting typographical errors in customer names.\n",
    "* Tools: Python (libraries for fuzzy matching, e.g., fuzzywuzzy)."
   ]
  },
  {
   "cell_type": "code",
   "execution_count": 2,
   "metadata": {},
   "outputs": [],
   "source": [
    "import pandas as pd\n",
    "from fuzzywuzzy import process"
   ]
  },
  {
   "cell_type": "code",
   "execution_count": 3,
   "metadata": {},
   "outputs": [],
   "source": [
    "customers = pd.read_csv('data/customers.csv')\n",
    "transactions = pd.read_csv('data/transactions.csv')"
   ]
  },
  {
   "cell_type": "code",
   "execution_count": 4,
   "metadata": {},
   "outputs": [
    {
     "data": {
      "text/html": [
       "<div>\n",
       "<style scoped>\n",
       "    .dataframe tbody tr th:only-of-type {\n",
       "        vertical-align: middle;\n",
       "    }\n",
       "\n",
       "    .dataframe tbody tr th {\n",
       "        vertical-align: top;\n",
       "    }\n",
       "\n",
       "    .dataframe thead th {\n",
       "        text-align: right;\n",
       "    }\n",
       "</style>\n",
       "<table border=\"1\" class=\"dataframe\">\n",
       "  <thead>\n",
       "    <tr style=\"text-align: right;\">\n",
       "      <th></th>\n",
       "      <th>customer_id</th>\n",
       "      <th>customer_name</th>\n",
       "      <th>email</th>\n",
       "    </tr>\n",
       "  </thead>\n",
       "  <tbody>\n",
       "    <tr>\n",
       "      <th>0</th>\n",
       "      <td>1</td>\n",
       "      <td>John Smith</td>\n",
       "      <td>john.smith@email.com</td>\n",
       "    </tr>\n",
       "    <tr>\n",
       "      <th>1</th>\n",
       "      <td>2</td>\n",
       "      <td>Jane Doe</td>\n",
       "      <td>jane.doe@email.com</td>\n",
       "    </tr>\n",
       "    <tr>\n",
       "      <th>2</th>\n",
       "      <td>3</td>\n",
       "      <td>Micheal Jonson</td>\n",
       "      <td>m.johnson@email.com</td>\n",
       "    </tr>\n",
       "    <tr>\n",
       "      <th>3</th>\n",
       "      <td>4</td>\n",
       "      <td>Chris Lee</td>\n",
       "      <td>c.lee@email.com</td>\n",
       "    </tr>\n",
       "    <tr>\n",
       "      <th>4</th>\n",
       "      <td>5</td>\n",
       "      <td>Katherine Davis</td>\n",
       "      <td>k.davis@email.com</td>\n",
       "    </tr>\n",
       "  </tbody>\n",
       "</table>\n",
       "</div>"
      ],
      "text/plain": [
       "   customer_id    customer_name                 email\n",
       "0            1       John Smith  john.smith@email.com\n",
       "1            2         Jane Doe    jane.doe@email.com\n",
       "2            3   Micheal Jonson   m.johnson@email.com\n",
       "3            4        Chris Lee       c.lee@email.com\n",
       "4            5  Katherine Davis     k.davis@email.com"
      ]
     },
     "execution_count": 4,
     "metadata": {},
     "output_type": "execute_result"
    }
   ],
   "source": [
    "customers.head()"
   ]
  },
  {
   "cell_type": "code",
   "execution_count": 5,
   "metadata": {},
   "outputs": [
    {
     "data": {
      "text/html": [
       "<div>\n",
       "<style scoped>\n",
       "    .dataframe tbody tr th:only-of-type {\n",
       "        vertical-align: middle;\n",
       "    }\n",
       "\n",
       "    .dataframe tbody tr th {\n",
       "        vertical-align: top;\n",
       "    }\n",
       "\n",
       "    .dataframe thead th {\n",
       "        text-align: right;\n",
       "    }\n",
       "</style>\n",
       "<table border=\"1\" class=\"dataframe\">\n",
       "  <thead>\n",
       "    <tr style=\"text-align: right;\">\n",
       "      <th></th>\n",
       "      <th>transaction_id</th>\n",
       "      <th>customer_name</th>\n",
       "      <th>amount</th>\n",
       "      <th>transaction_date</th>\n",
       "    </tr>\n",
       "  </thead>\n",
       "  <tbody>\n",
       "    <tr>\n",
       "      <th>0</th>\n",
       "      <td>101</td>\n",
       "      <td>John Smith</td>\n",
       "      <td>784</td>\n",
       "      <td>2023-01-31</td>\n",
       "    </tr>\n",
       "    <tr>\n",
       "      <th>1</th>\n",
       "      <td>102</td>\n",
       "      <td>Jane Doe</td>\n",
       "      <td>659</td>\n",
       "      <td>2023-02-28</td>\n",
       "    </tr>\n",
       "    <tr>\n",
       "      <th>2</th>\n",
       "      <td>103</td>\n",
       "      <td>Michael Jonson</td>\n",
       "      <td>729</td>\n",
       "      <td>2023-03-31</td>\n",
       "    </tr>\n",
       "    <tr>\n",
       "      <th>3</th>\n",
       "      <td>104</td>\n",
       "      <td>Chris Lee</td>\n",
       "      <td>292</td>\n",
       "      <td>2023-04-30</td>\n",
       "    </tr>\n",
       "    <tr>\n",
       "      <th>4</th>\n",
       "      <td>105</td>\n",
       "      <td>Katherine Davis</td>\n",
       "      <td>935</td>\n",
       "      <td>2023-05-31</td>\n",
       "    </tr>\n",
       "  </tbody>\n",
       "</table>\n",
       "</div>"
      ],
      "text/plain": [
       "   transaction_id    customer_name  amount transaction_date\n",
       "0             101       John Smith     784       2023-01-31\n",
       "1             102         Jane Doe     659       2023-02-28\n",
       "2             103   Michael Jonson     729       2023-03-31\n",
       "3             104        Chris Lee     292       2023-04-30\n",
       "4             105  Katherine Davis     935       2023-05-31"
      ]
     },
     "execution_count": 5,
     "metadata": {},
     "output_type": "execute_result"
    }
   ],
   "source": [
    "transactions.head()"
   ]
  },
  {
   "cell_type": "code",
   "execution_count": 6,
   "metadata": {},
   "outputs": [],
   "source": [
    "names = customers['customer_name'].tolist()\n",
    "matches = transactions['customer_name'].apply(lambda x: process.extractOne(x, names, score_cutoff=90))\n",
    "transactions['match'] = matches.apply(lambda x: x[0])\n",
    "transactions = transactions.drop(columns=['customer_name'])\n",
    "consolidated = pd.merge(customers, transactions, left_on='customer_name', right_on='match')\n",
    "consolidated = consolidated.drop(columns=['match'])"
   ]
  },
  {
   "cell_type": "code",
   "execution_count": 7,
   "metadata": {},
   "outputs": [
    {
     "data": {
      "text/html": [
       "<div>\n",
       "<style scoped>\n",
       "    .dataframe tbody tr th:only-of-type {\n",
       "        vertical-align: middle;\n",
       "    }\n",
       "\n",
       "    .dataframe tbody tr th {\n",
       "        vertical-align: top;\n",
       "    }\n",
       "\n",
       "    .dataframe thead th {\n",
       "        text-align: right;\n",
       "    }\n",
       "</style>\n",
       "<table border=\"1\" class=\"dataframe\">\n",
       "  <thead>\n",
       "    <tr style=\"text-align: right;\">\n",
       "      <th></th>\n",
       "      <th>customer_id</th>\n",
       "      <th>customer_name</th>\n",
       "      <th>email</th>\n",
       "      <th>transaction_id</th>\n",
       "      <th>amount</th>\n",
       "      <th>transaction_date</th>\n",
       "    </tr>\n",
       "  </thead>\n",
       "  <tbody>\n",
       "    <tr>\n",
       "      <th>0</th>\n",
       "      <td>1</td>\n",
       "      <td>John Smith</td>\n",
       "      <td>john.smith@email.com</td>\n",
       "      <td>101</td>\n",
       "      <td>784</td>\n",
       "      <td>2023-01-31</td>\n",
       "    </tr>\n",
       "    <tr>\n",
       "      <th>1</th>\n",
       "      <td>2</td>\n",
       "      <td>Jane Doe</td>\n",
       "      <td>jane.doe@email.com</td>\n",
       "      <td>102</td>\n",
       "      <td>659</td>\n",
       "      <td>2023-02-28</td>\n",
       "    </tr>\n",
       "    <tr>\n",
       "      <th>2</th>\n",
       "      <td>3</td>\n",
       "      <td>Micheal Jonson</td>\n",
       "      <td>m.johnson@email.com</td>\n",
       "      <td>103</td>\n",
       "      <td>729</td>\n",
       "      <td>2023-03-31</td>\n",
       "    </tr>\n",
       "    <tr>\n",
       "      <th>3</th>\n",
       "      <td>4</td>\n",
       "      <td>Chris Lee</td>\n",
       "      <td>c.lee@email.com</td>\n",
       "      <td>104</td>\n",
       "      <td>292</td>\n",
       "      <td>2023-04-30</td>\n",
       "    </tr>\n",
       "    <tr>\n",
       "      <th>4</th>\n",
       "      <td>5</td>\n",
       "      <td>Katherine Davis</td>\n",
       "      <td>k.davis@email.com</td>\n",
       "      <td>105</td>\n",
       "      <td>935</td>\n",
       "      <td>2023-05-31</td>\n",
       "    </tr>\n",
       "    <tr>\n",
       "      <th>5</th>\n",
       "      <td>6</td>\n",
       "      <td>David Martinez</td>\n",
       "      <td>d.martinez@email.com</td>\n",
       "      <td>106</td>\n",
       "      <td>863</td>\n",
       "      <td>2023-06-30</td>\n",
       "    </tr>\n",
       "    <tr>\n",
       "      <th>6</th>\n",
       "      <td>7</td>\n",
       "      <td>Sara Brownn</td>\n",
       "      <td>s.brown@email.com</td>\n",
       "      <td>107</td>\n",
       "      <td>807</td>\n",
       "      <td>2023-07-31</td>\n",
       "    </tr>\n",
       "    <tr>\n",
       "      <th>7</th>\n",
       "      <td>8</td>\n",
       "      <td>James Wilson</td>\n",
       "      <td>j.wilson@email.com</td>\n",
       "      <td>108</td>\n",
       "      <td>459</td>\n",
       "      <td>2023-08-31</td>\n",
       "    </tr>\n",
       "    <tr>\n",
       "      <th>8</th>\n",
       "      <td>9</td>\n",
       "      <td>Patricia Taylor</td>\n",
       "      <td>p.taylor@email.com</td>\n",
       "      <td>109</td>\n",
       "      <td>109</td>\n",
       "      <td>2023-09-30</td>\n",
       "    </tr>\n",
       "    <tr>\n",
       "      <th>9</th>\n",
       "      <td>10</td>\n",
       "      <td>Robert Miller</td>\n",
       "      <td>r.miller@email.com</td>\n",
       "      <td>110</td>\n",
       "      <td>823</td>\n",
       "      <td>2023-10-31</td>\n",
       "    </tr>\n",
       "  </tbody>\n",
       "</table>\n",
       "</div>"
      ],
      "text/plain": [
       "   customer_id    customer_name                 email  transaction_id  amount  \\\n",
       "0            1       John Smith  john.smith@email.com             101     784   \n",
       "1            2         Jane Doe    jane.doe@email.com             102     659   \n",
       "2            3   Micheal Jonson   m.johnson@email.com             103     729   \n",
       "3            4        Chris Lee       c.lee@email.com             104     292   \n",
       "4            5  Katherine Davis     k.davis@email.com             105     935   \n",
       "5            6   David Martinez  d.martinez@email.com             106     863   \n",
       "6            7      Sara Brownn     s.brown@email.com             107     807   \n",
       "7            8     James Wilson    j.wilson@email.com             108     459   \n",
       "8            9  Patricia Taylor    p.taylor@email.com             109     109   \n",
       "9           10    Robert Miller    r.miller@email.com             110     823   \n",
       "\n",
       "  transaction_date  \n",
       "0       2023-01-31  \n",
       "1       2023-02-28  \n",
       "2       2023-03-31  \n",
       "3       2023-04-30  \n",
       "4       2023-05-31  \n",
       "5       2023-06-30  \n",
       "6       2023-07-31  \n",
       "7       2023-08-31  \n",
       "8       2023-09-30  \n",
       "9       2023-10-31  "
      ]
     },
     "execution_count": 7,
     "metadata": {},
     "output_type": "execute_result"
    }
   ],
   "source": [
    "consolidated"
   ]
  },
  {
   "cell_type": "markdown",
   "metadata": {},
   "source": [
    "## Snowflake Storage and Queries\n",
    "* Task: Load the merged dataset into Snowflake.\n",
    "* Objective: Execute SQL queries to generate a consolidated report on buying patterns.\n",
    "* Tools: Snowflake (SQL for querying)."
   ]
  },
  {
   "cell_type": "markdown",
   "metadata": {},
   "source": [
    "````\n",
    "WITH customer_summary AS (\n",
    "    SELECT\n",
    "        customer_id,\n",
    "        customer_name,\n",
    "        email,\n",
    "        COUNT(transaction_id) AS transactions,\n",
    "        SUM(amount) AS total_spent,\n",
    "        MIN(transaction_date) AS first_purchase_date,\n",
    "        MAX(transaction_date) AS last_purchase_date\n",
    "    FROM\n",
    "        consolidated\n",
    "    GROUP BY\n",
    "        customer_id\n",
    ")\n",
    "\n",
    "SELECT\n",
    "    customer_id,\n",
    "    customer_name,\n",
    "    email,\n",
    "    transactions,\n",
    "    total_spent,\n",
    "    first_purchase_date,\n",
    "    last_purchase_date,\n",
    "    DATEDIFF('day', first_purchase_date, last_purchase_date) AS days_between_first_and_last_purchase,\n",
    "    ROUND(total_spent / transactions, 2) AS avg_spent_per_transaction\n",
    "FROM\n",
    "    customer_summary\n",
    "ORDER BY\n",
    "    total_spent DESC;"
   ]
  },
  {
   "cell_type": "markdown",
   "metadata": {},
   "source": [
    "## Analysis in Jupyter Notebook\n",
    "* Task: Analyze the merged data in Jupyter Notebook.\n",
    "* Objective: Identify trends and patterns, and document findings.\n",
    "* Tools: Python (Matplotlib or Seaborn for visualizations)."
   ]
  },
  {
   "cell_type": "code",
   "execution_count": 8,
   "metadata": {},
   "outputs": [],
   "source": [
    "consolidated['transaction_date'] = pd.to_datetime(consolidated['transaction_date'])"
   ]
  },
  {
   "cell_type": "code",
   "execution_count": 9,
   "metadata": {},
   "outputs": [
    {
     "data": {
      "text/html": [
       "<div>\n",
       "<style scoped>\n",
       "    .dataframe tbody tr th:only-of-type {\n",
       "        vertical-align: middle;\n",
       "    }\n",
       "\n",
       "    .dataframe tbody tr th {\n",
       "        vertical-align: top;\n",
       "    }\n",
       "\n",
       "    .dataframe thead th {\n",
       "        text-align: right;\n",
       "    }\n",
       "</style>\n",
       "<table border=\"1\" class=\"dataframe\">\n",
       "  <thead>\n",
       "    <tr style=\"text-align: right;\">\n",
       "      <th></th>\n",
       "      <th>customer_id</th>\n",
       "      <th>customer_name</th>\n",
       "      <th>email</th>\n",
       "      <th>transaction_id</th>\n",
       "      <th>amount</th>\n",
       "      <th>transaction_date</th>\n",
       "    </tr>\n",
       "  </thead>\n",
       "  <tbody>\n",
       "    <tr>\n",
       "      <th>0</th>\n",
       "      <td>1</td>\n",
       "      <td>John Smith</td>\n",
       "      <td>john.smith@email.com</td>\n",
       "      <td>101</td>\n",
       "      <td>784</td>\n",
       "      <td>2023-01-31</td>\n",
       "    </tr>\n",
       "    <tr>\n",
       "      <th>1</th>\n",
       "      <td>2</td>\n",
       "      <td>Jane Doe</td>\n",
       "      <td>jane.doe@email.com</td>\n",
       "      <td>102</td>\n",
       "      <td>659</td>\n",
       "      <td>2023-02-28</td>\n",
       "    </tr>\n",
       "    <tr>\n",
       "      <th>2</th>\n",
       "      <td>3</td>\n",
       "      <td>Micheal Jonson</td>\n",
       "      <td>m.johnson@email.com</td>\n",
       "      <td>103</td>\n",
       "      <td>729</td>\n",
       "      <td>2023-03-31</td>\n",
       "    </tr>\n",
       "    <tr>\n",
       "      <th>3</th>\n",
       "      <td>4</td>\n",
       "      <td>Chris Lee</td>\n",
       "      <td>c.lee@email.com</td>\n",
       "      <td>104</td>\n",
       "      <td>292</td>\n",
       "      <td>2023-04-30</td>\n",
       "    </tr>\n",
       "    <tr>\n",
       "      <th>4</th>\n",
       "      <td>5</td>\n",
       "      <td>Katherine Davis</td>\n",
       "      <td>k.davis@email.com</td>\n",
       "      <td>105</td>\n",
       "      <td>935</td>\n",
       "      <td>2023-05-31</td>\n",
       "    </tr>\n",
       "    <tr>\n",
       "      <th>5</th>\n",
       "      <td>6</td>\n",
       "      <td>David Martinez</td>\n",
       "      <td>d.martinez@email.com</td>\n",
       "      <td>106</td>\n",
       "      <td>863</td>\n",
       "      <td>2023-06-30</td>\n",
       "    </tr>\n",
       "    <tr>\n",
       "      <th>6</th>\n",
       "      <td>7</td>\n",
       "      <td>Sara Brownn</td>\n",
       "      <td>s.brown@email.com</td>\n",
       "      <td>107</td>\n",
       "      <td>807</td>\n",
       "      <td>2023-07-31</td>\n",
       "    </tr>\n",
       "    <tr>\n",
       "      <th>7</th>\n",
       "      <td>8</td>\n",
       "      <td>James Wilson</td>\n",
       "      <td>j.wilson@email.com</td>\n",
       "      <td>108</td>\n",
       "      <td>459</td>\n",
       "      <td>2023-08-31</td>\n",
       "    </tr>\n",
       "    <tr>\n",
       "      <th>8</th>\n",
       "      <td>9</td>\n",
       "      <td>Patricia Taylor</td>\n",
       "      <td>p.taylor@email.com</td>\n",
       "      <td>109</td>\n",
       "      <td>109</td>\n",
       "      <td>2023-09-30</td>\n",
       "    </tr>\n",
       "    <tr>\n",
       "      <th>9</th>\n",
       "      <td>10</td>\n",
       "      <td>Robert Miller</td>\n",
       "      <td>r.miller@email.com</td>\n",
       "      <td>110</td>\n",
       "      <td>823</td>\n",
       "      <td>2023-10-31</td>\n",
       "    </tr>\n",
       "  </tbody>\n",
       "</table>\n",
       "</div>"
      ],
      "text/plain": [
       "   customer_id    customer_name                 email  transaction_id  amount  \\\n",
       "0            1       John Smith  john.smith@email.com             101     784   \n",
       "1            2         Jane Doe    jane.doe@email.com             102     659   \n",
       "2            3   Micheal Jonson   m.johnson@email.com             103     729   \n",
       "3            4        Chris Lee       c.lee@email.com             104     292   \n",
       "4            5  Katherine Davis     k.davis@email.com             105     935   \n",
       "5            6   David Martinez  d.martinez@email.com             106     863   \n",
       "6            7      Sara Brownn     s.brown@email.com             107     807   \n",
       "7            8     James Wilson    j.wilson@email.com             108     459   \n",
       "8            9  Patricia Taylor    p.taylor@email.com             109     109   \n",
       "9           10    Robert Miller    r.miller@email.com             110     823   \n",
       "\n",
       "  transaction_date  \n",
       "0       2023-01-31  \n",
       "1       2023-02-28  \n",
       "2       2023-03-31  \n",
       "3       2023-04-30  \n",
       "4       2023-05-31  \n",
       "5       2023-06-30  \n",
       "6       2023-07-31  \n",
       "7       2023-08-31  \n",
       "8       2023-09-30  \n",
       "9       2023-10-31  "
      ]
     },
     "execution_count": 9,
     "metadata": {},
     "output_type": "execute_result"
    }
   ],
   "source": [
    "consolidated"
   ]
  },
  {
   "cell_type": "code",
   "execution_count": 13,
   "metadata": {},
   "outputs": [
    {
     "data": {
      "image/png": "[encoded data removed]",
      "text/plain": [
       "<Figure size 1000x600 with 1 Axes>"
      ]
     },
     "metadata": {},
     "output_type": "display_data"
    }
   ],
   "source": [
    "import matplotlib.pyplot as plt\n",
    "import seaborn as sns\n",
    "\n",
    "# Distribution of transaction amounts\n",
    "plt.figure(figsize=(10, 6))\n",
    "sns.histplot(consolidated['amount'], kde=True, bins=10)\n",
    "plt.title('Distribution of Transaction Amounts')\n",
    "plt.xlabel('Transaction Amount')\n",
    "plt.ylabel('Frequency')\n",
    "plt.show()"
   ]
  },
  {
   "cell_type": "code",
   "execution_count": 15,
   "metadata": {},
   "outputs": [
    {
     "name": "stdout",
     "output_type": "stream",
     "text": [
      "customer_name\n",
      "Katherine Davis    935\n",
      "David Martinez     863\n",
      "Robert Miller      823\n",
      "Sara Brownn        807\n",
      "John Smith         784\n",
      "Name: amount, dtype: int64\n"
     ]
    }
   ],
   "source": [
    "top_spenders = consolidated.groupby('customer_name')['amount'].sum().sort_values(ascending=False).head(5)\n",
    "print(top_spenders)"
   ]
  },
  {
   "cell_type": "code",
   "execution_count": 16,
   "metadata": {},
   "outputs": [
    {
     "data": {
      "image/png": "[encoded data removed]",
      "text/plain": [
       "<Figure size 1000x600 with 1 Axes>"
      ]
     },
     "metadata": {},
     "output_type": "display_data"
    }
   ],
   "source": [
    "# Group by month\n",
    "consolidated['month'] = consolidated['transaction_date'].dt.to_period('M')\n",
    "monthly_transactions = consolidated.groupby('month').size()\n",
    "\n",
    "# Plot the transaction frequency\n",
    "plt.figure(figsize=(10, 6))\n",
    "monthly_transactions.plot(kind='bar')\n",
    "plt.title('Transaction Frequency Over Time')\n",
    "plt.xlabel('Month')\n",
    "plt.ylabel('Number of Transactions')\n",
    "plt.show()"
   ]
  },
  {
   "cell_type": "code",
   "execution_count": 17,
   "metadata": {},
   "outputs": [
    {
     "name": "stdout",
     "output_type": "stream",
     "text": [
      "Number of repeat customers: 0\n"
     ]
    }
   ],
   "source": [
    "customer_transactions = consolidated.groupby('customer_name').size()\n",
    "repeat_customers = customer_transactions[customer_transactions > 1]\n",
    "print(f'Number of repeat customers: {len(repeat_customers)}')"
   ]
  }
 ],
 "metadata": {
  "kernelspec": {
   "display_name": "Python 3",
   "language": "python",
   "name": "python3"
  },
  "language_info": {
   "codemirror_mode": {
    "name": "ipython",
    "version": 3
   },
   "file_extension": ".py",
   "mimetype": "text/x-python",
   "name": "python",
   "nbconvert_exporter": "python",
   "pygments_lexer": "ipython3",
   "version": "3.10.9"
  }
 },
 "nbformat": 4,
 "nbformat_minor": 2
}
